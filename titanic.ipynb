{
 "cells": [
  {
   "cell_type": "code",
   "execution_count": 74,
   "metadata": {},
   "outputs": [],
   "source": [
    "import pandas as pd\n",
    "from pandas_profiling import ProfileReport\n",
    "import sklearn\n",
    "import sweetviz as sv"
   ]
  },
  {
   "cell_type": "markdown",
   "metadata": {},
   "source": [
    "wczytanie zbioru"
   ]
  },
  {
   "cell_type": "code",
   "execution_count": 78,
   "metadata": {},
   "outputs": [],
   "source": [
    "df = pd.read_csv('./data/titanic.csv')"
   ]
  },
  {
   "cell_type": "markdown",
   "metadata": {},
   "source": [
    "usuniecie brakujacych rekordow"
   ]
  },
  {
   "cell_type": "code",
   "execution_count": 79,
   "metadata": {},
   "outputs": [],
   "source": [
    "df = df.dropna()\n",
    "df = df.reset_index(drop=True)"
   ]
  },
  {
   "cell_type": "markdown",
   "metadata": {},
   "source": [
    "generowanie raportu sweetviz (pandas profiling cos ma buga)"
   ]
  },
  {
   "cell_type": "code",
   "execution_count": 80,
   "metadata": {},
   "outputs": [
    {
     "data": {
      "application/vnd.jupyter.widget-view+json": {
       "model_id": "25c00351245446629ec9328426d6e80b",
       "version_major": 2,
       "version_minor": 0
      },
      "text/plain": [
       "                                             |          | [  0%]   00:00 -> (? left)"
      ]
     },
     "metadata": {},
     "output_type": "display_data"
    },
    {
     "name": "stderr",
     "output_type": "stream",
     "text": [
      "/home/jslowik/.pyenv/versions/3.8.12/envs/fusy/lib/python3.8/site-packages/sweetviz/graph_associations.py:223: FutureWarning: The frame.append method is deprecated and will be removed from pandas in a future version. Use pandas.concat instead.\n",
      "  new_dataframe = new_dataframe.append(pd.Series(empty_row_dict, name=feature))\n",
      "/home/jslowik/.pyenv/versions/3.8.12/envs/fusy/lib/python3.8/site-packages/sweetviz/graph_associations.py:223: FutureWarning: The frame.append method is deprecated and will be removed from pandas in a future version. Use pandas.concat instead.\n",
      "  new_dataframe = new_dataframe.append(pd.Series(empty_row_dict, name=feature))\n",
      "/home/jslowik/.pyenv/versions/3.8.12/envs/fusy/lib/python3.8/site-packages/sweetviz/graph_associations.py:223: FutureWarning: The frame.append method is deprecated and will be removed from pandas in a future version. Use pandas.concat instead.\n",
      "  new_dataframe = new_dataframe.append(pd.Series(empty_row_dict, name=feature))\n",
      "/home/jslowik/.pyenv/versions/3.8.12/envs/fusy/lib/python3.8/site-packages/sweetviz/graph_associations.py:223: FutureWarning: The frame.append method is deprecated and will be removed from pandas in a future version. Use pandas.concat instead.\n",
      "  new_dataframe = new_dataframe.append(pd.Series(empty_row_dict, name=feature))\n",
      "/home/jslowik/.pyenv/versions/3.8.12/envs/fusy/lib/python3.8/site-packages/sweetviz/graph_associations.py:223: FutureWarning: The frame.append method is deprecated and will be removed from pandas in a future version. Use pandas.concat instead.\n",
      "  new_dataframe = new_dataframe.append(pd.Series(empty_row_dict, name=feature))\n",
      "/home/jslowik/.pyenv/versions/3.8.12/envs/fusy/lib/python3.8/site-packages/sweetviz/graph_associations.py:223: FutureWarning: The frame.append method is deprecated and will be removed from pandas in a future version. Use pandas.concat instead.\n",
      "  new_dataframe = new_dataframe.append(pd.Series(empty_row_dict, name=feature))\n",
      "/home/jslowik/.pyenv/versions/3.8.12/envs/fusy/lib/python3.8/site-packages/sweetviz/graph_associations.py:223: FutureWarning: The frame.append method is deprecated and will be removed from pandas in a future version. Use pandas.concat instead.\n",
      "  new_dataframe = new_dataframe.append(pd.Series(empty_row_dict, name=feature))\n",
      "/home/jslowik/.pyenv/versions/3.8.12/envs/fusy/lib/python3.8/site-packages/sweetviz/graph_associations.py:223: FutureWarning: The frame.append method is deprecated and will be removed from pandas in a future version. Use pandas.concat instead.\n",
      "  new_dataframe = new_dataframe.append(pd.Series(empty_row_dict, name=feature))\n",
      "/home/jslowik/.pyenv/versions/3.8.12/envs/fusy/lib/python3.8/site-packages/sweetviz/graph_associations.py:223: FutureWarning: The frame.append method is deprecated and will be removed from pandas in a future version. Use pandas.concat instead.\n",
      "  new_dataframe = new_dataframe.append(pd.Series(empty_row_dict, name=feature))\n"
     ]
    },
    {
     "name": "stdout",
     "output_type": "stream",
     "text": [
      "Report titanic.html was generated! NOTEBOOK/COLAB USERS: the web browser MAY not pop up, regardless, the report IS saved in your notebook/colab files.\n"
     ]
    }
   ],
   "source": [
    "report = sv.analyze(df)\n",
    "report.show_html('titanic.html') "
   ]
  },
  {
   "cell_type": "code",
   "execution_count": 82,
   "metadata": {},
   "outputs": [
    {
     "name": "stdout",
     "output_type": "stream",
     "text": [
      "  ____  __  _  _  ____  ____  _  _  __   \n",
      " / ___)(  )( \\/ )(  _ \\(  __)/ )( \\(  ) v2.6.2 \n",
      " \\___ \\ )( / \\/ \\ ) __/ ) _) ) \\/ (/ (_/\\ \n",
      " (____/(__)\\_)(_/(__)  (__)  \\____/\\____/\n",
      "\n",
      " Created by Marco S. Nobile (m.s.nobile@tue.nl)\n",
      " and Simone Spolaor (simone.spolaor@unimib.it)\n",
      "\n",
      " * Detected Sugeno model type\n",
      "{'POWER': 0.0}\n"
     ]
    }
   ],
   "source": [
    "import simpful as sf\n",
    "\n",
    "# A simple fuzzy model describing how the heating power of a gas burner depends on the oxygen supply.\n",
    "\n",
    "FS = sf.FuzzySystem()\n",
    "\n",
    "# Define a linguistic variable.\n",
    "S_1 = sf.FuzzySet( points=[[0, 1.],  [1., 1.],  [1.5, 0]],          term=\"low_flow\" )\n",
    "S_2 = sf.FuzzySet( points=[[0.5, 0], [1.5, 1.], [2.5, 1], [3., 0]], term=\"medium_flow\" )\n",
    "S_3 = sf.FuzzySet( points=[[2., 0],  [2.5, 1.], [3., 1.]],          term=\"high_flow\" )\n",
    "FS.add_linguistic_variable(\"OXI\", sf.LinguisticVariable( [S_1, S_2, S_3] ))\n",
    "\n",
    "# Define consequents.\n",
    "FS.set_crisp_output_value(\"LOW_POWER\", 0)\n",
    "FS.set_crisp_output_value(\"MEDIUM_POWER\", 25)\n",
    "FS.set_output_function(\"HIGH_FUN\", \"OXI**2\")\n",
    "\n",
    "# Define fuzzy rules.\n",
    "RULE1 = \"IF (OXI IS low_flow) THEN (POWER IS LOW_POWER)\"\n",
    "RULE2 = \"IF (OXI IS medium_flow) THEN (POWER IS MEDIUM_POWER)\"\n",
    "RULE3 = \"IF (NOT (OXI IS low_flow)) THEN (POWER IS HIGH_FUN)\"\n",
    "FS.add_rules([RULE1, RULE2, RULE3])\n",
    "\n",
    "# Set antecedents values, perform Sugeno inference and print output values.\n",
    "FS.set_variable(\"OXI\", .1)\n",
    "print (FS.Sugeno_inference(['POWER']))"
   ]
  },
  {
   "cell_type": "code",
   "execution_count": 91,
   "metadata": {},
   "outputs": [
    {
     "data": {
      "text/html": [
       "<div>\n",
       "<style scoped>\n",
       "    .dataframe tbody tr th:only-of-type {\n",
       "        vertical-align: middle;\n",
       "    }\n",
       "\n",
       "    .dataframe tbody tr th {\n",
       "        vertical-align: top;\n",
       "    }\n",
       "\n",
       "    .dataframe thead th {\n",
       "        text-align: right;\n",
       "    }\n",
       "</style>\n",
       "<table border=\"1\" class=\"dataframe\">\n",
       "  <thead>\n",
       "    <tr style=\"text-align: right;\">\n",
       "      <th></th>\n",
       "      <th>Age</th>\n",
       "      <th>Sex</th>\n",
       "      <th>Pclass</th>\n",
       "    </tr>\n",
       "  </thead>\n",
       "  <tbody>\n",
       "    <tr>\n",
       "      <th>0</th>\n",
       "      <td>38.0</td>\n",
       "      <td>female</td>\n",
       "      <td>1</td>\n",
       "    </tr>\n",
       "    <tr>\n",
       "      <th>1</th>\n",
       "      <td>35.0</td>\n",
       "      <td>female</td>\n",
       "      <td>1</td>\n",
       "    </tr>\n",
       "    <tr>\n",
       "      <th>3</th>\n",
       "      <td>4.0</td>\n",
       "      <td>female</td>\n",
       "      <td>3</td>\n",
       "    </tr>\n",
       "    <tr>\n",
       "      <th>4</th>\n",
       "      <td>58.0</td>\n",
       "      <td>female</td>\n",
       "      <td>1</td>\n",
       "    </tr>\n",
       "    <tr>\n",
       "      <th>5</th>\n",
       "      <td>34.0</td>\n",
       "      <td>male</td>\n",
       "      <td>2</td>\n",
       "    </tr>\n",
       "  </tbody>\n",
       "</table>\n",
       "</div>"
      ],
      "text/plain": [
       "    Age     Sex  Pclass\n",
       "0  38.0  female       1\n",
       "1  35.0  female       1\n",
       "3   4.0  female       3\n",
       "4  58.0  female       1\n",
       "5  34.0    male       2"
      ]
     },
     "execution_count": 91,
     "metadata": {},
     "output_type": "execute_result"
    }
   ],
   "source": [
    "df[df['Survived']==1][['Age', 'Sex', 'Pclass']].head()"
   ]
  },
  {
   "cell_type": "code",
   "execution_count": 92,
   "metadata": {},
   "outputs": [
    {
     "data": {
      "text/html": [
       "<div>\n",
       "<style scoped>\n",
       "    .dataframe tbody tr th:only-of-type {\n",
       "        vertical-align: middle;\n",
       "    }\n",
       "\n",
       "    .dataframe tbody tr th {\n",
       "        vertical-align: top;\n",
       "    }\n",
       "\n",
       "    .dataframe thead th {\n",
       "        text-align: right;\n",
       "    }\n",
       "</style>\n",
       "<table border=\"1\" class=\"dataframe\">\n",
       "  <thead>\n",
       "    <tr style=\"text-align: right;\">\n",
       "      <th></th>\n",
       "      <th>Age</th>\n",
       "      <th>Sex</th>\n",
       "      <th>Pclass</th>\n",
       "    </tr>\n",
       "  </thead>\n",
       "  <tbody>\n",
       "    <tr>\n",
       "      <th>2</th>\n",
       "      <td>54.0</td>\n",
       "      <td>male</td>\n",
       "      <td>1</td>\n",
       "    </tr>\n",
       "    <tr>\n",
       "      <th>7</th>\n",
       "      <td>19.0</td>\n",
       "      <td>male</td>\n",
       "      <td>1</td>\n",
       "    </tr>\n",
       "    <tr>\n",
       "      <th>9</th>\n",
       "      <td>65.0</td>\n",
       "      <td>male</td>\n",
       "      <td>1</td>\n",
       "    </tr>\n",
       "    <tr>\n",
       "      <th>10</th>\n",
       "      <td>45.0</td>\n",
       "      <td>male</td>\n",
       "      <td>1</td>\n",
       "    </tr>\n",
       "    <tr>\n",
       "      <th>12</th>\n",
       "      <td>25.0</td>\n",
       "      <td>male</td>\n",
       "      <td>3</td>\n",
       "    </tr>\n",
       "  </tbody>\n",
       "</table>\n",
       "</div>"
      ],
      "text/plain": [
       "     Age   Sex  Pclass\n",
       "2   54.0  male       1\n",
       "7   19.0  male       1\n",
       "9   65.0  male       1\n",
       "10  45.0  male       1\n",
       "12  25.0  male       3"
      ]
     },
     "execution_count": 92,
     "metadata": {},
     "output_type": "execute_result"
    }
   ],
   "source": [
    "df[df['Survived']==0][['Age', 'Sex', 'Pclass']].head()"
   ]
  },
  {
   "cell_type": "code",
   "execution_count": 97,
   "metadata": {},
   "outputs": [
    {
     "name": "stdout",
     "output_type": "stream",
     "text": [
      "  ____  __  _  _  ____  ____  _  _  __   \n",
      " / ___)(  )( \\/ )(  _ \\(  __)/ )( \\(  ) v2.6.2 \n",
      " \\___ \\ )( / \\/ \\ ) __/ ) _) ) \\/ (/ (_/\\ \n",
      " (____/(__)\\_)(_/(__)  (__)  \\____/\\____/\n",
      "\n",
      " Created by Marco S. Nobile (m.s.nobile@tue.nl)\n",
      " and Simone Spolaor (simone.spolaor@unimib.it)\n",
      "\n",
      " * Detected Sugeno model type\n"
     ]
    },
    {
     "data": {
      "text/plain": [
       "{'death': 22.37223185338409}"
      ]
     },
     "execution_count": 97,
     "metadata": {},
     "output_type": "execute_result"
    }
   ],
   "source": [
    "from simpful import *\n",
    "\n",
    "FS = FuzzySystem()\n",
    "\n",
    "\n",
    "# age\n",
    "age_TLV = AutoTriangle(3, terms=['young', 'middle', 'old'], universe_of_discourse=[0,80])\n",
    "FS.add_linguistic_variable(\"age\", age_TLV)\n",
    "\n",
    "\n",
    "# sex\n",
    "sex_male = FuzzySet(function=Sigmoid_MF(c=0.5, a=0.1), term=\"male\")\n",
    "sex_female = FuzzySet(function=InvSigmoid_MF(c=0.5, a=0.1), term=\"female\")\n",
    "LV1 = LinguisticVariable([sex_male,sex_female], concept=\"sex\", universe_of_discourse=[0,1])\n",
    "FS.add_linguistic_variable(\"sex\", LV1)\n",
    "\n",
    "# ticket class\n",
    "pclass_LV = AutoTriangle(3, terms=['first', 'second', 'third'], universe_of_discourse=[1,3])\n",
    "FS.add_linguistic_variable(\"pclass\", pclass_LV)\n",
    "\n",
    "# Define the consequents\n",
    "FS.set_crisp_output_value(\"low_probability\", 1)\n",
    "FS.set_crisp_output_value(\"high_probability\", 99)\n",
    "\n",
    "\n",
    "# Define the fuzzy rules\n",
    "FS.add_rules([\n",
    "\t\"IF (pclass IS first) THEN (death IS low_probability)\",\n",
    "\t\"IF (pclass IS third) THEN (death IS high_probability)\",\n",
    "\t\"IF (sex IS female) THEN (death IS low_probability)\",\n",
    "\t\"IF (sex IS male) THEN (death IS high_probability)\",\n",
    "\t\"IF (age IS young) THEN (death IS high_probability)\",\n",
    "\t\"IF (age IS old) THEN (death IS low_probability)\",\n",
    "\t])\n",
    "\n",
    "# pasazer zginal death -probability 77.85 %\n",
    "FS.set_variable(\"pclass\", \t3) \n",
    "FS.set_variable(\"sex\",  \t0) \n",
    "FS.set_variable(\"age\", \t\t25)\n",
    "\n",
    "# pasazer przezyl - 22.37 %\n",
    "FS.set_variable(\"pclass\", \t1) \n",
    "FS.set_variable(\"sex\",  \t1) \n",
    "FS.set_variable(\"age\", \t\t54)\n",
    "\n",
    "\n",
    "death_probability = FS.inference()\n",
    "death_probability"
   ]
  },
  {
   "cell_type": "code",
   "execution_count": null,
   "metadata": {},
   "outputs": [],
   "source": []
  }
 ],
 "metadata": {
  "interpreter": {
   "hash": "85f85b5ca540302e5d02c3554b2f5be1a3705b6e139dd4fd224f9886162b2c29"
  },
  "kernelspec": {
   "display_name": "Python 3.8.12 64-bit ('fusy')",
   "language": "python",
   "name": "python3"
  },
  "language_info": {
   "codemirror_mode": {
    "name": "ipython",
    "version": 3
   },
   "file_extension": ".py",
   "mimetype": "text/x-python",
   "name": "python",
   "nbconvert_exporter": "python",
   "pygments_lexer": "ipython3",
   "version": "3.8.12"
  },
  "orig_nbformat": 4
 },
 "nbformat": 4,
 "nbformat_minor": 2
}
